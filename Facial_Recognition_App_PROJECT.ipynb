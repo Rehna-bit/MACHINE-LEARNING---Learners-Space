{
  "nbformat": 4,
  "nbformat_minor": 0,
  "metadata": {
    "colab": {
      "provenance": [],
      "gpuType": "T4"
    },
    "kernelspec": {
      "name": "python3",
      "display_name": "Python 3"
    },
    "language_info": {
      "name": "python"
    },
    "accelerator": "GPU"
  },
  "cells": [
    {
      "cell_type": "markdown",
      "source": [
        "## **Facial Recognition App using SIAMESE Network**\n"
      ],
      "metadata": {
        "id": "h4paSFwblpYe"
      }
    },
    {
      "cell_type": "markdown",
      "source": [
        "### Importing Dependencies"
      ],
      "metadata": {
        "id": "sXsoS1lqltNE"
      }
    },
    {
      "cell_type": "code",
      "execution_count": 1,
      "metadata": {
        "id": "qtmgyW9XlkPn"
      },
      "outputs": [],
      "source": [
        "# Importing standard dependencies\n",
        "import cv2\n",
        "import os\n",
        "import random\n",
        "import numpy as np\n",
        "from matplotlib import pyplot as plt"
      ]
    },
    {
      "cell_type": "markdown",
      "source": [
        "### Creating Folder Structures"
      ],
      "metadata": {
        "id": "tAruPGqmmChY"
      }
    },
    {
      "cell_type": "code",
      "source": [
        "from google.colab import drive\n",
        "drive.mount('/content/drive')"
      ],
      "metadata": {
        "colab": {
          "base_uri": "https://localhost:8080/"
        },
        "id": "57IY06jTodzF",
        "outputId": "12d28df8-88cf-4a90-f923-7d949039cff6"
      },
      "execution_count": 3,
      "outputs": [
        {
          "output_type": "stream",
          "name": "stdout",
          "text": [
            "Mounted at /content/drive\n"
          ]
        }
      ]
    },
    {
      "cell_type": "code",
      "source": [
        "import os\n",
        "\n",
        "BASE_PATH = '/content/drive/My Drive/ML_PROJECT'\n",
        "\n",
        "POS_PATH = os.path.join(BASE_PATH, 'data', 'positive')\n",
        "NEG_PATH = os.path.join(BASE_PATH, 'data', 'negative')\n",
        "ANC_PATH = os.path.join(BASE_PATH, 'data', 'anchor')\n",
        "\n",
        "# Creating the directories\n",
        "os.makedirs(POS_PATH, exist_ok=True)\n",
        "os.makedirs(NEG_PATH, exist_ok=True)\n",
        "os.makedirs(ANC_PATH, exist_ok=True)\n",
        "\n",
        "# Verifying if the directories were created\n",
        "print(os.listdir(os.path.join(BASE_PATH, 'data')))\n"
      ],
      "metadata": {
        "colab": {
          "base_uri": "https://localhost:8080/"
        },
        "id": "SC27bcIXmDDk",
        "outputId": "ab896d84-8ab2-497b-afd3-c5888c4e71c4"
      },
      "execution_count": 4,
      "outputs": [
        {
          "output_type": "stream",
          "name": "stdout",
          "text": [
            "['positive', 'negative', 'anchor']\n"
          ]
        }
      ]
    },
    {
      "cell_type": "markdown",
      "source": [
        "### Creating a folder for LFW(Labelled Faces in the Wild Dataset) dataset"
      ],
      "metadata": {
        "id": "8L6Vhc6YvAuP"
      }
    },
    {
      "cell_type": "code",
      "source": [
        "BASE_PATH = '/content/drive/My Drive/ML_PROJECT'\n",
        "\n",
        "# Creating a directory to store the extracted dataset\n",
        "LFW_PATH = os.path.join(BASE_PATH, 'lfw')\n",
        "os.makedirs(LFW_PATH, exist_ok=True)\n"
      ],
      "metadata": {
        "id": "04faAgtRscaN"
      },
      "execution_count": 5,
      "outputs": []
    },
    {
      "cell_type": "markdown",
      "source": [
        "### Untar Labelled Faces in the Wild Dataset"
      ],
      "metadata": {
        "id": "YnplO9QPu6bh"
      }
    },
    {
      "cell_type": "code",
      "source": [
        "# Step 1: Download the LFW dataset\n",
        "!wget -O \"{BASE_PATH}/lfw.tgz\" http://vis-www.cs.umass.edu/lfw/lfw.tgz\n",
        "\n",
        "# Step 2: Extract the dataset\n",
        "# This is same as uncompressing Tar GZ labelled Faces in the Wild Dataset\n",
        "!tar -xzvf \"{BASE_PATH}/lfw.tgz\" -C \"{LFW_PATH}\"\n",
        "\n",
        "# Verifying extraction\n",
        "print(os.listdir(LFW_PATH))"
      ],
      "metadata": {
        "id": "FpbT9uNqu1gp"
      },
      "execution_count": 6,
      "outputs": []
    },
    {
      "cell_type": "markdown",
      "source": [
        "### Moving the files from 'lfw' folder to 'negative' folder"
      ],
      "metadata": {
        "id": "io48ny-dtuk3"
      }
    },
    {
      "cell_type": "code",
      "source": [
        "# Move LFW Images to the following repository data/negative\n",
        "# Inside the 'lfw' folder there is another 'lfw' folder.Inside that the remaining folders are present\n",
        "for directory in os.listdir(LFW_PATH):\n",
        "  for folder in os.listdir(os.path.join(LFW_PATH,directory)):\n",
        "    for file in os.listdir(os.path.join(LFW_PATH,directory,folder)):\n",
        "      EX_PATH = os.path.join(LFW_PATH, directory,folder, file)\n",
        "      NEW_PATH = os.path.join(NEG_PATH, file)\n",
        "      os.replace(EX_PATH, NEW_PATH)\n",
        "# The above code basically does :\n",
        "LFW_PATH/lfw/folder/file --> NEW_PATH"
      ],
      "metadata": {
        "id": "thC_zWOQscfC"
      },
      "execution_count": 7,
      "outputs": []
    },
    {
      "cell_type": "markdown",
      "source": [
        "### Collecting Positives and Anchors"
      ],
      "metadata": {
        "id": "IvFSXnDEoSml"
      }
    },
    {
      "cell_type": "code",
      "source": [
        "# This part was done using VSCode since webcam is not accessible through colab\n",
        "import uuid\n",
        "\n",
        "main_path = 'C:\\\\Users\\\\SHAIK REHNA AFROZ\\\\Downloads\\\\img_cap'\n",
        "anchor_path = 'C:\\\\Users\\\\SHAIK REHNA AFROZ\\\\Downloads\\\\img_cap\\\\anchor'\n",
        "positive_path = 'C:\\\\Users\\\\SHAIK REHNA AFROZ\\\\Downloads\\\\img_cap\\\\positive'\n",
        "\n",
        "# Establishing a connection to the webcam\n",
        "cap = cv2.VideoCapture(0)\n",
        "while cap.isOpened():\n",
        "  ret, frame = cap.read()\n",
        "\n",
        "  # Cut down the frame to 250x250px\n",
        "  frame = frame[200:500,200:500,:]\n",
        "\n",
        "  # Collect anchors\n",
        "  if cv2.waitKey(1) & 0xFF == ord('a'):\n",
        "    # Create the unique file path\n",
        "    imgname =os.path.join(anchor_path,'{}.jpg'.format(uuid.uuid1()))\n",
        "    # write out anchor image\n",
        "    cv2.imwrite(imgname, frame)\n",
        "\n",
        "  # Collect positives\n",
        "  if cv2.waitKey(1) & 0xFF == ord('p'):\n",
        "    # Create the unique file path\n",
        "    imgname =os.path.join(positive_path,'{}.jpg'.format(uuid.uuid1()))\n",
        "    # write out anchor image\n",
        "    cv2.imwrite(imgname, frame)\n",
        "\n",
        "  # Show image back to screen\n",
        "  cv2.imshow('Image collection', frame)\n",
        "\n",
        "  # Breaking gracefully\n",
        "  if cv2.waitKey(1) & 0xFF == ord('q'):\n",
        "    break\n",
        "\n",
        "# Release the Webcam\n",
        "cap.release()\n",
        "# Close the image show frame\n",
        "cv2.destroyAllWindows()"
      ],
      "metadata": {
        "id": "Sl7fVZAlhP0X"
      },
      "execution_count": 8,
      "outputs": []
    },
    {
      "cell_type": "markdown",
      "source": [
        "### LOADING AND PREPROCESSING IMAGES"
      ],
      "metadata": {
        "id": "kATIWRurjDok"
      }
    },
    {
      "cell_type": "markdown",
      "source": [
        "### Get Image Directories"
      ],
      "metadata": {
        "id": "Z_JHOy22jGXt"
      }
    },
    {
      "cell_type": "code",
      "source": [
        "anchor   = tf.data.Dataset.list_files(ANC_PATH + '/*.jpg').take(300)\n",
        "# grab paths of 300 images  with 'jpg' extension from ANC_PATH\n",
        "positive = tf.data.Dataset.list_files(POS_PATH + '/*.jpg').take(300)\n",
        "negative = tf.data.Dataset.list_files(NEG_PATH + '/*.jpg').take(300)"
      ],
      "metadata": {
        "id": "r0tYCVQ5hQ1Y"
      },
      "execution_count": 9,
      "outputs": []
    },
    {
      "cell_type": "code",
      "source": [
        "ANC_PATH +'/*.jpg'"
      ],
      "metadata": {
        "colab": {
          "base_uri": "https://localhost:8080/",
          "height": 36
        },
        "id": "WyEOc_rtKjjj",
        "outputId": "d30150c9-8e5b-4612-acd3-ace126fb3993"
      },
      "execution_count": 10,
      "outputs": [
        {
          "output_type": "execute_result",
          "data": {
            "text/plain": [
              "'/content/drive/My Drive/ML_PROJECT/data/anchor/*.jpg'"
            ],
            "application/vnd.google.colaboratory.intrinsic+json": {
              "type": "string"
            }
          },
          "metadata": {},
          "execution_count": 10
        }
      ]
    },
    {
      "cell_type": "code",
      "source": [
        "dir_test = anchor.as_numpy_iterator()\n",
        "dir_test.next()"
      ],
      "metadata": {
        "colab": {
          "base_uri": "https://localhost:8080/"
        },
        "id": "TqBbeCnTjI-_",
        "outputId": "f83d634a-3592-4d2a-f945-63775e086288"
      },
      "execution_count": 59,
      "outputs": [
        {
          "output_type": "execute_result",
          "data": {
            "text/plain": [
              "b'/content/drive/My Drive/ML_PROJECT/data/anchor/186f5fc8-4cce-11ef-97e0-04bf1b17c1d3.jpg'"
            ]
          },
          "metadata": {},
          "execution_count": 59
        }
      ]
    },
    {
      "cell_type": "markdown",
      "source": [
        "### Preprocessing - Scale and Resize\n",
        "### (Converting the values from 0-255 to 0-1)"
      ],
      "metadata": {
        "id": "RStdVxcvjLNK"
      }
    },
    {
      "cell_type": "code",
      "source": [
        "def preprocess(file_path):\n",
        "  # Read in image from file_path\n",
        "  byte_img = tf.io.read_file(file_path)\n",
        "  # Load in the image\n",
        "  img = tf.io.decode_jpeg(byte_img)\n",
        "  # Preprocessing steps - resizing the image to be 100x100x3\n",
        "  img = tf.image.resize(img,(100,100))\n",
        "  # scale image to be between 0 and 1\n",
        "  img = img/255.0\n",
        "  # Return the image\n",
        "  return img"
      ],
      "metadata": {
        "id": "ZuweQe5ajI6T"
      },
      "execution_count": 60,
      "outputs": []
    },
    {
      "cell_type": "code",
      "source": [
        "preprocess('/content/drive/My Drive/ML_PROJECT/data/anchor/175d0304-4cce-11ef-9e2f-04bf1b17c1d3.jpg')"
      ],
      "metadata": {
        "colab": {
          "base_uri": "https://localhost:8080/"
        },
        "id": "P6K7K9-YjT4V",
        "outputId": "1174f3ac-b04b-4fc4-9f3c-7f304d527cfd"
      },
      "execution_count": 63,
      "outputs": [
        {
          "output_type": "execute_result",
          "data": {
            "text/plain": [
              "<tf.Tensor: shape=(100, 100, 3), dtype=float32, numpy=\n",
              "array([[[1.        , 1.        , 1.        ],\n",
              "        [1.        , 1.        , 1.        ],\n",
              "        [1.        , 1.        , 1.        ],\n",
              "        ...,\n",
              "        [1.        , 1.        , 1.        ],\n",
              "        [1.        , 1.        , 1.        ],\n",
              "        [1.        , 1.        , 1.        ]],\n",
              "\n",
              "       [[1.        , 1.        , 1.        ],\n",
              "        [1.        , 1.        , 1.        ],\n",
              "        [1.        , 1.        , 1.        ],\n",
              "        ...,\n",
              "        [1.        , 1.        , 1.        ],\n",
              "        [1.        , 1.        , 1.        ],\n",
              "        [1.        , 1.        , 1.        ]],\n",
              "\n",
              "       [[1.        , 1.        , 1.        ],\n",
              "        [1.        , 1.        , 1.        ],\n",
              "        [1.        , 1.        , 1.        ],\n",
              "        ...,\n",
              "        [1.        , 1.        , 1.        ],\n",
              "        [1.        , 1.        , 1.        ],\n",
              "        [1.        , 1.        , 1.        ]],\n",
              "\n",
              "       ...,\n",
              "\n",
              "       [[0.7117647 , 0.6       , 0.5058824 ],\n",
              "        [0.71887255, 0.62990195, 0.5129902 ],\n",
              "        [0.67941177, 0.6142157 , 0.52181375],\n",
              "        ...,\n",
              "        [0.24411765, 0.23529412, 0.3156863 ],\n",
              "        [0.3120098 , 0.3002451 , 0.36887255],\n",
              "        [0.34387255, 0.3360294 , 0.39068627]],\n",
              "\n",
              "       [[0.71789217, 0.6044118 , 0.5377451 ],\n",
              "        [0.6987745 , 0.6122549 , 0.53431374],\n",
              "        [0.6335784 , 0.58186275, 0.5254902 ],\n",
              "        ...,\n",
              "        [0.23700981, 0.22965686, 0.3093137 ],\n",
              "        [0.27867648, 0.26838234, 0.33431372],\n",
              "        [0.3379902 , 0.3242647 , 0.3781863 ]],\n",
              "\n",
              "       [[0.6872549 , 0.57941175, 0.5470588 ],\n",
              "        [0.66764706, 0.5995098 , 0.547549  ],\n",
              "        [0.5612745 , 0.5235294 , 0.4872549 ],\n",
              "        ...,\n",
              "        [0.23406863, 0.23602942, 0.3125    ],\n",
              "        [0.26838234, 0.25857842, 0.3262255 ],\n",
              "        [0.29607844, 0.28039217, 0.34558824]]], dtype=float32)>"
            ]
          },
          "metadata": {},
          "execution_count": 63
        }
      ]
    },
    {
      "cell_type": "code",
      "source": [
        "img = preprocess('/content/drive/My Drive/ML_PROJECT/data/anchor/1d31cd84-4cce-11ef-9829-04bf1b17c1d3.jpg')"
      ],
      "metadata": {
        "id": "_ZxRZyBL7hC6"
      },
      "execution_count": 66,
      "outputs": []
    },
    {
      "cell_type": "code",
      "source": [
        "plt.imshow(img)"
      ],
      "metadata": {
        "colab": {
          "base_uri": "https://localhost:8080/",
          "height": 450
        },
        "id": "P5MVhnIOlT3Q",
        "outputId": "12e83232-f597-4204-c029-cc7d362fb43d"
      },
      "execution_count": 67,
      "outputs": [
        {
          "output_type": "execute_result",
          "data": {
            "text/plain": [
              "<matplotlib.image.AxesImage at 0x7b6edc4b6950>"
            ]
          },
          "metadata": {},
          "execution_count": 67
        },
        {
          "output_type": "display_data",
          "data": {
            "text/plain": [
              "<Figure size 640x480 with 1 Axes>"
            ],
            "image/png": "[encoded data removed]"
          },
          "metadata": {}
        }
      ]
    },
    {
      "cell_type": "code",
      "source": [
        "img.numpy().min()"
      ],
      "metadata": {
        "colab": {
          "base_uri": "https://localhost:8080/"
        },
        "id": "2DzIyFQqxzt6",
        "outputId": "f0a6750d-f52b-4f6c-f390-c9f94ac9089b"
      },
      "execution_count": 68,
      "outputs": [
        {
          "output_type": "execute_result",
          "data": {
            "text/plain": [
              "0.16470589"
            ]
          },
          "metadata": {},
          "execution_count": 68
        }
      ]
    },
    {
      "cell_type": "markdown",
      "source": [
        "### Creating Labelled Dataset"
      ],
      "metadata": {
        "id": "JGtpnzlEmxNp"
      }
    },
    {
      "cell_type": "code",
      "source": [
        "tf.ones_like([1,1,1,3.456,7342.921])\n",
        "# returns an numpy array of 1"
      ],
      "metadata": {
        "colab": {
          "base_uri": "https://localhost:8080/"
        },
        "id": "Jk2x43dsjI1K",
        "outputId": "22492956-f181-44d3-c702-2fef4faea8ed"
      },
      "execution_count": 69,
      "outputs": [
        {
          "output_type": "execute_result",
          "data": {
            "text/plain": [
              "<tf.Tensor: shape=(5,), dtype=float32, numpy=array([1., 1., 1., 1., 1.], dtype=float32)>"
            ]
          },
          "metadata": {},
          "execution_count": 69
        }
      ]
    },
    {
      "cell_type": "code",
      "source": [
        "# (anchor,positive) => 1,1,1,1 [For (anchor,positive) we get 1]\n",
        "# (anchor,negative) => 0,0,0,0 [For (anchor,negative) we get 0]\n"
      ],
      "metadata": {
        "id": "ZGFVz6mHnpmG"
      },
      "execution_count": 70,
      "outputs": []
    },
    {
      "cell_type": "code",
      "source": [
        "class_labels = tf.data.Dataset.from_tensor_slices(tf.zeros(len(anchor)))"
      ],
      "metadata": {
        "id": "-hrNnsl7yOBA"
      },
      "execution_count": 71,
      "outputs": []
    },
    {
      "cell_type": "code",
      "source": [
        "iterator_labs = class_labels.as_numpy_iterator()"
      ],
      "metadata": {
        "id": "hG95_CxEyN3v"
      },
      "execution_count": 72,
      "outputs": []
    },
    {
      "cell_type": "code",
      "source": [
        "iterator_labs.next()"
      ],
      "metadata": {
        "colab": {
          "base_uri": "https://localhost:8080/"
        },
        "id": "u2sLqJF3ycb8",
        "outputId": "74ca61d3-4035-470a-d705-c4a0928ef172"
      },
      "execution_count": 73,
      "outputs": [
        {
          "output_type": "execute_result",
          "data": {
            "text/plain": [
              "0.0"
            ]
          },
          "metadata": {},
          "execution_count": 73
        }
      ]
    },
    {
      "cell_type": "code",
      "source": [
        "tf.ones(len(anchor))"
      ],
      "metadata": {
        "colab": {
          "base_uri": "https://localhost:8080/"
        },
        "id": "u3-yChZXpHnN",
        "outputId": "f925a757-c97b-4465-eece-c39ac266e261"
      },
      "execution_count": 74,
      "outputs": [
        {
          "output_type": "execute_result",
          "data": {
            "text/plain": [
              "<tf.Tensor: shape=(300,), dtype=float32, numpy=\n",
              "array([1., 1., 1., 1., 1., 1., 1., 1., 1., 1., 1., 1., 1., 1., 1., 1., 1.,\n",
              "       1., 1., 1., 1., 1., 1., 1., 1., 1., 1., 1., 1., 1., 1., 1., 1., 1.,\n",
              "       1., 1., 1., 1., 1., 1., 1., 1., 1., 1., 1., 1., 1., 1., 1., 1., 1.,\n",
              "       1., 1., 1., 1., 1., 1., 1., 1., 1., 1., 1., 1., 1., 1., 1., 1., 1.,\n",
              "       1., 1., 1., 1., 1., 1., 1., 1., 1., 1., 1., 1., 1., 1., 1., 1., 1.,\n",
              "       1., 1., 1., 1., 1., 1., 1., 1., 1., 1., 1., 1., 1., 1., 1., 1., 1.,\n",
              "       1., 1., 1., 1., 1., 1., 1., 1., 1., 1., 1., 1., 1., 1., 1., 1., 1.,\n",
              "       1., 1., 1., 1., 1., 1., 1., 1., 1., 1., 1., 1., 1., 1., 1., 1., 1.,\n",
              "       1., 1., 1., 1., 1., 1., 1., 1., 1., 1., 1., 1., 1., 1., 1., 1., 1.,\n",
              "       1., 1., 1., 1., 1., 1., 1., 1., 1., 1., 1., 1., 1., 1., 1., 1., 1.,\n",
              "       1., 1., 1., 1., 1., 1., 1., 1., 1., 1., 1., 1., 1., 1., 1., 1., 1.,\n",
              "       1., 1., 1., 1., 1., 1., 1., 1., 1., 1., 1., 1., 1., 1., 1., 1., 1.,\n",
              "       1., 1., 1., 1., 1., 1., 1., 1., 1., 1., 1., 1., 1., 1., 1., 1., 1.,\n",
              "       1., 1., 1., 1., 1., 1., 1., 1., 1., 1., 1., 1., 1., 1., 1., 1., 1.,\n",
              "       1., 1., 1., 1., 1., 1., 1., 1., 1., 1., 1., 1., 1., 1., 1., 1., 1.,\n",
              "       1., 1., 1., 1., 1., 1., 1., 1., 1., 1., 1., 1., 1., 1., 1., 1., 1.,\n",
              "       1., 1., 1., 1., 1., 1., 1., 1., 1., 1., 1., 1., 1., 1., 1., 1., 1.,\n",
              "       1., 1., 1., 1., 1., 1., 1., 1., 1., 1., 1.], dtype=float32)>"
            ]
          },
          "metadata": {},
          "execution_count": 74
        }
      ]
    },
    {
      "cell_type": "code",
      "source": [
        "positives = tf.data.Dataset.zip((anchor,positive,tf.data.Dataset.from_tensor_slices(tf.ones(len(anchor)))))\n",
        "# when anchor and positive are passed simultaneously then o/p is 1\n",
        "negatives = tf.data.Dataset.zip((anchor,negative,tf.data.Dataset.from_tensor_slices(tf.zeros(len(anchor)))))\n",
        "# when anchor and negative are passed simultaneously then o/p is 0\n",
        "data = positives.concatenate(negatives)\n"
      ],
      "metadata": {
        "id": "gn3ZvmAnnpxh"
      },
      "execution_count": 75,
      "outputs": []
    },
    {
      "cell_type": "code",
      "source": [
        "samples = data.as_numpy_iterator()"
      ],
      "metadata": {
        "id": "EXFdMON-np5-"
      },
      "execution_count": 76,
      "outputs": []
    },
    {
      "cell_type": "code",
      "source": [
        "example = samples.next()"
      ],
      "metadata": {
        "id": "rKnIPQocy8zN"
      },
      "execution_count": 84,
      "outputs": []
    },
    {
      "cell_type": "code",
      "source": [
        "example"
      ],
      "metadata": {
        "colab": {
          "base_uri": "https://localhost:8080/"
        },
        "id": "5r2ydPD-vAU8",
        "outputId": "48f5b750-ae5b-49d0-c2ea-3625c3a7ebe1"
      },
      "execution_count": 85,
      "outputs": [
        {
          "output_type": "execute_result",
          "data": {
            "text/plain": [
              "(b'/content/drive/My Drive/ML_PROJECT/data/anchor/19a04714-4cce-11ef-8838-04bf1b17c1d3.jpg',\n",
              " b'/content/drive/My Drive/ML_PROJECT/data/positive/dc897698-4cce-11ef-aef7-04bf1b17c1d3.jpg',\n",
              " 1.0)"
            ]
          },
          "metadata": {},
          "execution_count": 85
        }
      ]
    },
    {
      "cell_type": "markdown",
      "source": [
        "## Build Train and Test Partition"
      ],
      "metadata": {
        "id": "PhXWEwP12hLs"
      }
    },
    {
      "cell_type": "code",
      "source": [
        "# preprocessing entire directories\n",
        "def preprocess_twin(input_img, validation_img, label):\n",
        "  return(preprocess(input_img),preprocess(validation_img),label)"
      ],
      "metadata": {
        "id": "hc_bDvyEtOUL"
      },
      "execution_count": 86,
      "outputs": []
    },
    {
      "cell_type": "code",
      "source": [
        "res = preprocess_twin(*example)"
      ],
      "metadata": {
        "id": "XNR_1IkVtOMO"
      },
      "execution_count": 87,
      "outputs": []
    },
    {
      "cell_type": "code",
      "source": [
        "len(res)"
      ],
      "metadata": {
        "colab": {
          "base_uri": "https://localhost:8080/"
        },
        "id": "_8xzrTdCwJey",
        "outputId": "56fffb55-6fba-4d41-9afe-b71716cc57a8"
      },
      "execution_count": 88,
      "outputs": [
        {
          "output_type": "execute_result",
          "data": {
            "text/plain": [
              "3"
            ]
          },
          "metadata": {},
          "execution_count": 88
        }
      ]
    },
    {
      "cell_type": "code",
      "source": [
        "plt.imshow(res[0])"
      ],
      "metadata": {
        "colab": {
          "base_uri": "https://localhost:8080/",
          "height": 450
        },
        "id": "Uv45ZORytOEG",
        "outputId": "5cac64f4-9c96-4132-9643-16cdfa43f540"
      },
      "execution_count": 89,
      "outputs": [
        {
          "output_type": "execute_result",
          "data": {
            "text/plain": [
              "<matplotlib.image.AxesImage at 0x7b6edc22f850>"
            ]
          },
          "metadata": {},
          "execution_count": 89
        },
        {
          "output_type": "display_data",
          "data": {
            "text/plain": [
              "<Figure size 640x480 with 1 Axes>"
            ],
            "image/png": "[encoded data removed]"
          },
          "metadata": {}
        }
      ]
    },
    {
      "cell_type": "code",
      "source": [
        "plt.imshow(res[1])"
      ],
      "metadata": {
        "colab": {
          "base_uri": "https://localhost:8080/",
          "height": 450
        },
        "id": "G2QhO-k8tN99",
        "outputId": "3c744dd1-beb1-4641-c15d-3e588ecff672"
      },
      "execution_count": 90,
      "outputs": [
        {
          "output_type": "execute_result",
          "data": {
            "text/plain": [
              "<matplotlib.image.AxesImage at 0x7b6edc2974c0>"
            ]
          },
          "metadata": {},
          "execution_count": 90
        },
        {
          "output_type": "display_data",
          "data": {
            "text/plain": [
              "<Figure size 640x480 with 1 Axes>"
            ],
            "image/png": "[encoded data removed]"
          },
          "metadata": {}
        }
      ]
    },
    {
      "cell_type": "code",
      "source": [
        "res[2]"
      ],
      "metadata": {
        "colab": {
          "base_uri": "https://localhost:8080/"
        },
        "id": "u6WZ1j0ptN5H",
        "outputId": "fd63d367-6eab-44f2-80bb-f8f20fa417ee"
      },
      "execution_count": 91,
      "outputs": [
        {
          "output_type": "execute_result",
          "data": {
            "text/plain": [
              "1.0"
            ]
          },
          "metadata": {},
          "execution_count": 91
        }
      ]
    },
    {
      "cell_type": "code",
      "source": [
        "# Building dataloader pipeline\n",
        "data = data.map(preprocess_twin)\n",
        "data = data.cache()\n",
        "data = data.shuffle(buffer_size =1024)"
      ],
      "metadata": {
        "id": "GDVHMciF6EqS"
      },
      "execution_count": 92,
      "outputs": []
    },
    {
      "cell_type": "code",
      "source": [
        "data"
      ],
      "metadata": {
        "colab": {
          "base_uri": "https://localhost:8080/"
        },
        "id": "FsH4-gmv8zx5",
        "outputId": "5104f79e-76aa-4b20-86c1-d0153b4547e4"
      },
      "execution_count": 93,
      "outputs": [
        {
          "output_type": "execute_result",
          "data": {
            "text/plain": [
              "<_ShuffleDataset element_spec=(TensorSpec(shape=(100, 100, None), dtype=tf.float32, name=None), TensorSpec(shape=(100, 100, None), dtype=tf.float32, name=None), TensorSpec(shape=(), dtype=tf.float32, name=None))>"
            ]
          },
          "metadata": {},
          "execution_count": 93
        }
      ]
    },
    {
      "cell_type": "code",
      "source": [
        "samples = data.as_numpy_iterator()"
      ],
      "metadata": {
        "id": "f51Cysau6EtD"
      },
      "execution_count": 94,
      "outputs": []
    },
    {
      "cell_type": "code",
      "source": [
        "r = samples.next()"
      ],
      "metadata": {
        "id": "Q4xkh2bO6Evy"
      },
      "execution_count": 95,
      "outputs": []
    },
    {
      "cell_type": "code",
      "source": [
        "len(r)"
      ],
      "metadata": {
        "id": "53_JwOsQ6EzN",
        "colab": {
          "base_uri": "https://localhost:8080/"
        },
        "outputId": "afea7a06-f168-4d4e-b99c-90ec7992ca38"
      },
      "execution_count": 96,
      "outputs": [
        {
          "output_type": "execute_result",
          "data": {
            "text/plain": [
              "3"
            ]
          },
          "metadata": {},
          "execution_count": 96
        }
      ]
    },
    {
      "cell_type": "code",
      "source": [
        "plt.imshow(r[0])"
      ],
      "metadata": {
        "id": "UoTAZ6dk9Oyu",
        "colab": {
          "base_uri": "https://localhost:8080/",
          "height": 450
        },
        "outputId": "e97598c4-535a-4448-b7f2-3f980c9ff52d"
      },
      "execution_count": 97,
      "outputs": [
        {
          "output_type": "execute_result",
          "data": {
            "text/plain": [
              "<matplotlib.image.AxesImage at 0x7b6edc1a7ee0>"
            ]
          },
          "metadata": {},
          "execution_count": 97
        },
        {
          "output_type": "display_data",
          "data": {
            "text/plain": [
              "<Figure size 640x480 with 1 Axes>"
            ],
            "image/png": "[encoded data removed]"
          },
          "metadata": {}
        }
      ]
    },
    {
      "cell_type": "code",
      "source": [
        "plt.imshow(r[1])"
      ],
      "metadata": {
        "id": "1FyNVZhq9OvO",
        "colab": {
          "base_uri": "https://localhost:8080/",
          "height": 450
        },
        "outputId": "45e5adf8-f044-468d-e9f1-7f65066019dc"
      },
      "execution_count": 98,
      "outputs": [
        {
          "output_type": "execute_result",
          "data": {
            "text/plain": [
              "<matplotlib.image.AxesImage at 0x7b6ea3900880>"
            ]
          },
          "metadata": {},
          "execution_count": 98
        },
        {
          "output_type": "display_data",
          "data": {
            "text/plain": [
              "<Figure size 640x480 with 1 Axes>"
            ],
            "image/png": "[encoded data removed]"
          },
          "metadata": {}
        }
      ]
    },
    {
      "cell_type": "code",
      "source": [
        "r[2]"
      ],
      "metadata": {
        "id": "uJUxoiqr9Os-",
        "colab": {
          "base_uri": "https://localhost:8080/"
        },
        "outputId": "408497d9-cd90-4ba1-a0af-73f18481a05f"
      },
      "execution_count": 99,
      "outputs": [
        {
          "output_type": "execute_result",
          "data": {
            "text/plain": [
              "0.0"
            ]
          },
          "metadata": {},
          "execution_count": 99
        }
      ]
    },
    {
      "cell_type": "code",
      "source": [
        "data\n",
        "# data is in the form of tuple(anchor,positive,label) or (anchor,negative,label)"
      ],
      "metadata": {
        "id": "Z_ew9madCDm3",
        "colab": {
          "base_uri": "https://localhost:8080/"
        },
        "outputId": "ac15e904-6bbf-4b15-e301-96848394f73a"
      },
      "execution_count": 100,
      "outputs": [
        {
          "output_type": "execute_result",
          "data": {
            "text/plain": [
              "<_ShuffleDataset element_spec=(TensorSpec(shape=(100, 100, None), dtype=tf.float32, name=None), TensorSpec(shape=(100, 100, None), dtype=tf.float32, name=None), TensorSpec(shape=(), dtype=tf.float32, name=None))>"
            ]
          },
          "metadata": {},
          "execution_count": 100
        }
      ]
    },
    {
      "cell_type": "code",
      "source": [
        "# Training partition\n",
        "train_data = data.take(round(len(data)*.7)) # Take 420 elements out of 600 from 'data' dataset\n",
        "# This takes the first 70% of the dataset and assigns it to train_data\n",
        "train_data = train_data.batch(16)    # batch size of 16\n",
        "train_data = train_data.prefetch(8)  # Prefetch to improve performance"
      ],
      "metadata": {
        "id": "eWY7W12S9Oqj"
      },
      "execution_count": 101,
      "outputs": []
    },
    {
      "cell_type": "code",
      "source": [
        "round(len(data)*.7)\n",
        "# o/p is 420 becoz there are 600 labelled images(tuples). 600 *0.7 = 420\n",
        "# 300 : (anchor,positive,label) Labelled as 1\n",
        "# 300 : (anchor,negative,label ) Labelled as 0"
      ],
      "metadata": {
        "id": "VRRz7Xb09On2",
        "colab": {
          "base_uri": "https://localhost:8080/"
        },
        "outputId": "c4403a3f-66d7-4302-b9bd-5b64d8ee9758"
      },
      "execution_count": 102,
      "outputs": [
        {
          "output_type": "execute_result",
          "data": {
            "text/plain": [
              "420"
            ]
          },
          "metadata": {},
          "execution_count": 102
        }
      ]
    },
    {
      "cell_type": "code",
      "source": [
        "train_data"
      ],
      "metadata": {
        "id": "ch_F5nGu9OlP",
        "colab": {
          "base_uri": "https://localhost:8080/"
        },
        "outputId": "f68b9bbc-5821-4bf0-f575-ad8db1112c56"
      },
      "execution_count": 103,
      "outputs": [
        {
          "output_type": "execute_result",
          "data": {
            "text/plain": [
              "<_PrefetchDataset element_spec=(TensorSpec(shape=(None, 100, 100, None), dtype=tf.float32, name=None), TensorSpec(shape=(None, 100, 100, None), dtype=tf.float32, name=None), TensorSpec(shape=(None,), dtype=tf.float32, name=None))>"
            ]
          },
          "metadata": {},
          "execution_count": 103
        }
      ]
    },
    {
      "cell_type": "code",
      "source": [
        "len(train_data)"
      ],
      "metadata": {
        "id": "eS6omofHjmaT",
        "colab": {
          "base_uri": "https://localhost:8080/"
        },
        "outputId": "54fb6f77-f3e9-4ec2-a430-a9b425125cbb"
      },
      "execution_count": 104,
      "outputs": [
        {
          "output_type": "execute_result",
          "data": {
            "text/plain": [
              "27"
            ]
          },
          "metadata": {},
          "execution_count": 104
        }
      ]
    },
    {
      "cell_type": "code",
      "source": [
        "# Dataset: Contains 27 batches.(Batch size = 16(except last batch))\n",
        "  # Batch: Each batch is a tuple with:\n",
        "      # Anchor images: Shape (16, height, width, channels).\n",
        "      # Positive/Negative images: Shape (16, height, width, channels).\n",
        "      # Labels: Shape (16,)."
      ],
      "metadata": {
        "id": "6N-lVJLzyFuB"
      },
      "execution_count": 105,
      "outputs": []
    },
    {
      "cell_type": "code",
      "source": [
        "train_samples = train_data.as_numpy_iterator()\n",
        "# The iterator train_samples itself does not contain data directly.\n",
        "# Instead, it allows us to retrieve batches of data sequentially.\n",
        "# Each batch is a tuple with three components"
      ],
      "metadata": {
        "id": "c5Acxf-IjmdN"
      },
      "execution_count": 106,
      "outputs": []
    },
    {
      "cell_type": "code",
      "source": [
        "train_sample = train_samples.next()\n",
        "# train_sample is a tuple with three elements:\n",
        "# train_sample[0]: NumPy array of shape (16, height, width, channels) for anchor images.\n",
        "# train_sample[1]: NumPy array of shape (16, height, width, channels) for positive or negative images.\n",
        "# train_sample[2]: NumPy array of shape (16,) for labels."
      ],
      "metadata": {
        "id": "k8oPIANJyW3_"
      },
      "execution_count": 107,
      "outputs": []
    },
    {
      "cell_type": "code",
      "source": [
        "len(train_sample[0])"
      ],
      "metadata": {
        "id": "MzXgWU5UjmoE",
        "colab": {
          "base_uri": "https://localhost:8080/"
        },
        "outputId": "a67343c3-fa8c-46c3-d570-a25950aa2faf"
      },
      "execution_count": 108,
      "outputs": [
        {
          "output_type": "execute_result",
          "data": {
            "text/plain": [
              "16"
            ]
          },
          "metadata": {},
          "execution_count": 108
        }
      ]
    },
    {
      "cell_type": "code",
      "source": [
        "# Testing partition\n",
        "# will skip the first 420 elements and take the next 180 elements\n",
        "# This skips the first 70% of the dataset, effectively giving us the remaining 30%\n",
        "test_data = data.skip(round(len(data)*.7))\n",
        "test_data = test_data.take(round(len(data)*.3))\n",
        "# # This takes the next 30% of the dataset from the remaining elements\n",
        "test_data = test_data.batch(16)\n",
        "test_data = test_data.prefetch(8)"
      ],
      "metadata": {
        "id": "0QG-omEcjmrD"
      },
      "execution_count": 109,
      "outputs": []
    },
    {
      "cell_type": "code",
      "source": [
        "len(data)*.3"
      ],
      "metadata": {
        "id": "3n1W5sly0lai",
        "colab": {
          "base_uri": "https://localhost:8080/"
        },
        "outputId": "bb869322-c905-4c43-89ba-cbbcb06c14e1"
      },
      "execution_count": 110,
      "outputs": [
        {
          "output_type": "execute_result",
          "data": {
            "text/plain": [
              "180.0"
            ]
          },
          "metadata": {},
          "execution_count": 110
        }
      ]
    },
    {
      "cell_type": "code",
      "source": [
        "test_samples = test_data.as_numpy_iterator()\n",
        "test_sample = test_samples.next()"
      ],
      "metadata": {
        "id": "4JsVteuzjmt-"
      },
      "execution_count": 111,
      "outputs": []
    },
    {
      "cell_type": "code",
      "source": [
        "len(test_data)\n",
        "# 16 * 12 = 192(can accomoate 180 elements)\n",
        "# 16 * 11 = 172(<180)\n",
        "# 12 batches with 16 elements in each batch"
      ],
      "metadata": {
        "id": "9HODQ2ZpzrAf",
        "colab": {
          "base_uri": "https://localhost:8080/"
        },
        "outputId": "d934f315-9e1c-45e6-b947-83df818a46c9"
      },
      "execution_count": 112,
      "outputs": [
        {
          "output_type": "execute_result",
          "data": {
            "text/plain": [
              "12"
            ]
          },
          "metadata": {},
          "execution_count": 112
        }
      ]
    },
    {
      "cell_type": "code",
      "source": [
        "len(test_sample[0])\n",
        "# test_sample is a tuple with first element as size 16"
      ],
      "metadata": {
        "id": "fwcaN80Hzq9N",
        "colab": {
          "base_uri": "https://localhost:8080/"
        },
        "outputId": "e1f89ddd-2e3b-4b86-a766-110c7fa00014"
      },
      "execution_count": 113,
      "outputs": [
        {
          "output_type": "execute_result",
          "data": {
            "text/plain": [
              "16"
            ]
          },
          "metadata": {},
          "execution_count": 113
        }
      ]
    },
    {
      "cell_type": "markdown",
      "source": [
        "## Building an Embedding Layer"
      ],
      "metadata": {
        "id": "2e_CAcmDWkFN"
      }
    },
    {
      "cell_type": "code",
      "source": [
        "inp = Input(shape =(100,100,3),name ='input_image')"
      ],
      "metadata": {
        "id": "y7i3D836zq6s"
      },
      "execution_count": 114,
      "outputs": []
    },
    {
      "cell_type": "code",
      "source": [
        "c1 = Conv2D(64,(10,10), activation ='relu')(inp)"
      ],
      "metadata": {
        "id": "yBmjF7_yzqzb"
      },
      "execution_count": 115,
      "outputs": []
    },
    {
      "cell_type": "code",
      "source": [
        "# Embedding layer according to SIAMESE Network\n",
        "def make_embedding():\n",
        "  inp = Input(shape=(100,100,3),name='input_image')\n",
        "\n",
        "  # First Block\n",
        "  c1 = Conv2D(6,(10,10),activation='relu')(inp)\n",
        "  m1 = MaxPooling2D(64,(2,2),padding='same')(c1)\n",
        "\n",
        "  # Second Block\n",
        "  c2 = Conv2D(128,(7,7),activation='relu')(m1)\n",
        "  m2 = MaxPooling2D(64,(2,2),padding='same')(c2)\n",
        "\n",
        "  # Third Block\n",
        "  c3 = Conv2D(128,(4,4),activation='relu')(m2)\n",
        "  m3 = MaxPooling2D(64,(2,2),padding='same')(c3)\n",
        "\n",
        "  # Final embedding block\n",
        "  c4 = Conv2D(256,(4,4),activation ='relu')(m3)\n",
        "  f1 = Flatten()(c4)\n",
        "  d1 = Dense(4096,activation='sigmoid')(f1)\n",
        "\n",
        "  return Model(inputs=[inp] ,outputs=[d1],name='embedding')\n"
      ],
      "metadata": {
        "id": "fK6IhGhiXEye"
      },
      "execution_count": 116,
      "outputs": []
    },
    {
      "cell_type": "code",
      "source": [
        "embedding = make_embedding()"
      ],
      "metadata": {
        "id": "BxfjZdyNXEvG"
      },
      "execution_count": 117,
      "outputs": []
    },
    {
      "cell_type": "code",
      "source": [
        "embedding.summary()"
      ],
      "metadata": {
        "id": "X_PTz_hmXEsm",
        "colab": {
          "base_uri": "https://localhost:8080/"
        },
        "outputId": "75b7002c-4a6e-4eac-c9b7-64853f70fe5d"
      },
      "execution_count": 118,
      "outputs": [
        {
          "output_type": "stream",
          "name": "stdout",
          "text": [
            "Model: \"embedding\"\n",
            "_________________________________________________________________\n",
            " Layer (type)                Output Shape              Param #   \n",
            "=================================================================\n",
            " input_image (InputLayer)    [(None, 100, 100, 3)]     0         \n",
            "                                                                 \n",
            " conv2d_1 (Conv2D)           (None, 91, 91, 6)         1806      \n",
            "                                                                 \n",
            " max_pooling2d (MaxPooling2  (None, 46, 46, 6)         0         \n",
            " D)                                                              \n",
            "                                                                 \n",
            " conv2d_2 (Conv2D)           (None, 40, 40, 128)       37760     \n",
            "                                                                 \n",
            " max_pooling2d_1 (MaxPoolin  (None, 20, 20, 128)       0         \n",
            " g2D)                                                            \n",
            "                                                                 \n",
            " conv2d_3 (Conv2D)           (None, 17, 17, 128)       262272    \n",
            "                                                                 \n",
            " max_pooling2d_2 (MaxPoolin  (None, 9, 9, 128)         0         \n",
            " g2D)                                                            \n",
            "                                                                 \n",
            " conv2d_4 (Conv2D)           (None, 6, 6, 256)         524544    \n",
            "                                                                 \n",
            " flatten (Flatten)           (None, 9216)              0         \n",
            "                                                                 \n",
            " dense (Dense)               (None, 4096)              37752832  \n",
            "                                                                 \n",
            "=================================================================\n",
            "Total params: 38579214 (147.17 MB)\n",
            "Trainable params: 38579214 (147.17 MB)\n",
            "Non-trainable params: 0 (0.00 Byte)\n",
            "_________________________________________________________________\n"
          ]
        }
      ]
    },
    {
      "cell_type": "markdown",
      "source": [
        "## Building a Distance Layer"
      ],
      "metadata": {
        "id": "fl3DUtATeZFW"
      }
    },
    {
      "cell_type": "code",
      "source": [
        "# Siamese L1 Distance class\n",
        "class L1Dist(Layer):\n",
        "\n",
        "  # Init method - inheritance\n",
        "  def __init__(self,**kwargs):\n",
        "    super().__init__()\n",
        "# Usage: super().__init__(**kwargs) calls the __init__ method of the\n",
        "# superclass, passing along any keyword arguments it received.\n",
        "# This ensures that the superclass is properly initialized with those arguments\n",
        "\n",
        "  # Magic happens here - Similarity calculation\n",
        "  def call(self,input_embedding,validation_embedding):\n",
        "      return tf.math.abs(input_embedding-validation_embedding)"
      ],
      "metadata": {
        "id": "mnJ9Ux9WXEqD"
      },
      "execution_count": 119,
      "outputs": []
    },
    {
      "cell_type": "code",
      "source": [
        "l1 = L1Dist()"
      ],
      "metadata": {
        "id": "gB8adhReXEnD"
      },
      "execution_count": 120,
      "outputs": []
    },
    {
      "cell_type": "code",
      "source": [
        "l1(anchor_embedding,validation_embedding)"
      ],
      "metadata": {
        "id": "0kurW8KIKqCg"
      },
      "execution_count": null,
      "outputs": []
    },
    {
      "cell_type": "markdown",
      "source": [
        "## Siamese Model"
      ],
      "metadata": {
        "id": "NqeTSQbyj2KA"
      }
    },
    {
      "cell_type": "code",
      "source": [
        "input_image = Input(name='input_img',shape=(100,100,3))\n",
        "validation_image = Input(name='validation_img',shape=(100,100,3))"
      ],
      "metadata": {
        "id": "fVF1rkF1nPjR"
      },
      "execution_count": 122,
      "outputs": []
    },
    {
      "cell_type": "code",
      "source": [
        "inp_embedding = embedding(input_image)\n",
        "val_embedding = embedding(validation_image)"
      ],
      "metadata": {
        "id": "phaeG9HxnPf4"
      },
      "execution_count": 123,
      "outputs": []
    },
    {
      "cell_type": "code",
      "source": [
        "inp_embedding"
      ],
      "metadata": {
        "colab": {
          "base_uri": "https://localhost:8080/"
        },
        "id": "7IVv3mCanPdT",
        "outputId": "0801f2d5-d07f-49c1-9db1-78b5d972b7b6"
      },
      "execution_count": 124,
      "outputs": [
        {
          "output_type": "execute_result",
          "data": {
            "text/plain": [
              "<KerasTensor: shape=(None, 4096) dtype=float32 (created by layer 'embedding')>"
            ]
          },
          "metadata": {},
          "execution_count": 124
        }
      ]
    },
    {
      "cell_type": "code",
      "source": [
        "val_embedding"
      ],
      "metadata": {
        "colab": {
          "base_uri": "https://localhost:8080/"
        },
        "id": "EbsStS16ntjh",
        "outputId": "74d80e28-b54a-40f8-bbc7-6e5a715ae16b"
      },
      "execution_count": 125,
      "outputs": [
        {
          "output_type": "execute_result",
          "data": {
            "text/plain": [
              "<KerasTensor: shape=(None, 4096) dtype=float32 (created by layer 'embedding')>"
            ]
          },
          "metadata": {},
          "execution_count": 125
        }
      ]
    },
    {
      "cell_type": "code",
      "source": [
        "siamese_layer = L1Dist()"
      ],
      "metadata": {
        "id": "fx-uowkrnPao"
      },
      "execution_count": 126,
      "outputs": []
    },
    {
      "cell_type": "code",
      "source": [
        "distances = siamese_layer(inp_embedding,val_embedding)\n",
        "# This represents the distances between input_embedding and validation_embedding"
      ],
      "metadata": {
        "id": "vdvT7jQXnPXu"
      },
      "execution_count": 127,
      "outputs": []
    },
    {
      "cell_type": "code",
      "source": [
        "distances"
      ],
      "metadata": {
        "colab": {
          "base_uri": "https://localhost:8080/"
        },
        "id": "YHVMzBm2pYcL",
        "outputId": "9704a165-3906-4c66-9d3c-0bb3e8d4133f"
      },
      "execution_count": 128,
      "outputs": [
        {
          "output_type": "execute_result",
          "data": {
            "text/plain": [
              "<KerasTensor: shape=(None, 4096) dtype=float32 (created by layer 'l1_dist_1')>"
            ]
          },
          "metadata": {},
          "execution_count": 128
        }
      ]
    },
    {
      "cell_type": "code",
      "source": [
        "classifier = Dense(1,activation='sigmoid')(distances)"
      ],
      "metadata": {
        "id": "W3DfpXmxpTdq"
      },
      "execution_count": 129,
      "outputs": []
    },
    {
      "cell_type": "code",
      "source": [
        "classifier\n",
        "# we get our final o/p with shape 1x1"
      ],
      "metadata": {
        "colab": {
          "base_uri": "https://localhost:8080/"
        },
        "id": "luvZQsNepdRS",
        "outputId": "18284225-bbe5-41ae-b269-1ab72d7303ee"
      },
      "execution_count": 130,
      "outputs": [
        {
          "output_type": "execute_result",
          "data": {
            "text/plain": [
              "<KerasTensor: shape=(None, 1) dtype=float32 (created by layer 'dense_1')>"
            ]
          },
          "metadata": {},
          "execution_count": 130
        }
      ]
    },
    {
      "cell_type": "code",
      "source": [
        "siamese_network = Model(inputs = [input_image,validation_image], outputs=classifier, name='SiameseNetwork')"
      ],
      "metadata": {
        "id": "WuxYi6i7qXtP"
      },
      "execution_count": 131,
      "outputs": []
    },
    {
      "cell_type": "code",
      "source": [
        "siamese_network.summary()"
      ],
      "metadata": {
        "colab": {
          "base_uri": "https://localhost:8080/"
        },
        "id": "yvdbbQnVqcwB",
        "outputId": "d3f1d9b8-f5e6-4482-90b2-47fa28aabd23"
      },
      "execution_count": 132,
      "outputs": [
        {
          "output_type": "stream",
          "name": "stdout",
          "text": [
            "Model: \"SiameseNetwork\"\n",
            "__________________________________________________________________________________________________\n",
            " Layer (type)                Output Shape                 Param #   Connected to                  \n",
            "==================================================================================================\n",
            " input_img (InputLayer)      [(None, 100, 100, 3)]        0         []                            \n",
            "                                                                                                  \n",
            " validation_img (InputLayer  [(None, 100, 100, 3)]        0         []                            \n",
            " )                                                                                                \n",
            "                                                                                                  \n",
            " embedding (Functional)      (None, 4096)                 3857921   ['input_img[0][0]',           \n",
            "                                                          4          'validation_img[0][0]']      \n",
            "                                                                                                  \n",
            " l1_dist_1 (L1Dist)          (None, 4096)                 0         ['embedding[0][0]',           \n",
            "                                                                     'embedding[1][0]']           \n",
            "                                                                                                  \n",
            " dense_1 (Dense)             (None, 1)                    4097      ['l1_dist_1[0][0]']           \n",
            "                                                                                                  \n",
            "==================================================================================================\n",
            "Total params: 38583311 (147.18 MB)\n",
            "Trainable params: 38583311 (147.18 MB)\n",
            "Non-trainable params: 0 (0.00 Byte)\n",
            "__________________________________________________________________________________________________\n"
          ]
        }
      ]
    },
    {
      "cell_type": "code",
      "source": [
        "def make_siamese_model():\n",
        "\n",
        "  # Anchor image input in the network\n",
        "  input_image = Input(name='input_img',shape=(100,100,3))\n",
        "  # Validation image in the network\n",
        "  validation_image = Input(name='validation_img',shape=(100,100,3))\n",
        "\n",
        "   # Combine siamese distance components\n",
        "  siamese_layer = L1Dist()\n",
        "  siamese_layer._name = 'distance'\n",
        "  distances = siamese_layer(embedding(input_image),embedding(validation_image))\n",
        "\n",
        "   # Classification Layer\n",
        "  classifier = Dense(1,activation='sigmoid')(distances)\n",
        "\n",
        "  return Model(inputs = [input_image,validation_image], outputs=classifier, name='SiameseNetwork')"
      ],
      "metadata": {
        "id": "qCEcqImAXEcD"
      },
      "execution_count": 133,
      "outputs": []
    },
    {
      "cell_type": "code",
      "source": [
        "siamese_model = make_siamese_model()"
      ],
      "metadata": {
        "id": "ez0R-4jplkuH"
      },
      "execution_count": 134,
      "outputs": []
    },
    {
      "cell_type": "code",
      "source": [
        "siamese_model.summary()"
      ],
      "metadata": {
        "colab": {
          "base_uri": "https://localhost:8080/"
        },
        "id": "NWiXk7u8lkqb",
        "outputId": "85623572-d1b5-4877-f89e-262b80d0dfdd"
      },
      "execution_count": 135,
      "outputs": [
        {
          "output_type": "stream",
          "name": "stdout",
          "text": [
            "Model: \"SiameseNetwork\"\n",
            "__________________________________________________________________________________________________\n",
            " Layer (type)                Output Shape                 Param #   Connected to                  \n",
            "==================================================================================================\n",
            " input_img (InputLayer)      [(None, 100, 100, 3)]        0         []                            \n",
            "                                                                                                  \n",
            " validation_img (InputLayer  [(None, 100, 100, 3)]        0         []                            \n",
            " )                                                                                                \n",
            "                                                                                                  \n",
            " embedding (Functional)      (None, 4096)                 3857921   ['input_img[0][0]',           \n",
            "                                                          4          'validation_img[0][0]']      \n",
            "                                                                                                  \n",
            " distance (L1Dist)           (None, 4096)                 0         ['embedding[2][0]',           \n",
            "                                                                     'embedding[3][0]']           \n",
            "                                                                                                  \n",
            " dense_2 (Dense)             (None, 1)                    4097      ['distance[0][0]']            \n",
            "                                                                                                  \n",
            "==================================================================================================\n",
            "Total params: 38583311 (147.18 MB)\n",
            "Trainable params: 38583311 (147.18 MB)\n",
            "Non-trainable params: 0 (0.00 Byte)\n",
            "__________________________________________________________________________________________________\n"
          ]
        }
      ]
    },
    {
      "cell_type": "markdown",
      "source": [
        "## TRAINING"
      ],
      "metadata": {
        "id": "5poRXYQuscyg"
      }
    },
    {
      "cell_type": "markdown",
      "source": [
        "### Setup Loss and Optimizer"
      ],
      "metadata": {
        "id": "YjZoxp-Qtw57"
      }
    },
    {
      "cell_type": "code",
      "source": [
        "binary_cross_loss = tf.losses.BinaryCrossentropy()"
      ],
      "metadata": {
        "id": "0nYJmJwoscFR"
      },
      "execution_count": 136,
      "outputs": []
    },
    {
      "cell_type": "code",
      "source": [
        "opt = tf.keras.optimizers.Adam(1e-4) # 0.0001"
      ],
      "metadata": {
        "id": "c4bZ7Ej9lkoU"
      },
      "execution_count": 137,
      "outputs": []
    },
    {
      "cell_type": "markdown",
      "source": [
        "### Establishing Checkpoints"
      ],
      "metadata": {
        "id": "T580x0zxukp7"
      }
    },
    {
      "cell_type": "code",
      "source": [
        "checkpoint_dir = '/content/drive/MyDrive/ML_PROJECT/training_checkpoints'\n",
        "checkpoint_prefix = os.path.join(checkpoint_dir,'ckpt')\n",
        "checkpoint = tf.train.Checkpoint(opt=opt ,siamese_model = siamese_model)"
      ],
      "metadata": {
        "id": "z-cFJAYElklg"
      },
      "execution_count": 138,
      "outputs": []
    },
    {
      "cell_type": "markdown",
      "source": [
        "### Build Train Step Function"
      ],
      "metadata": {
        "id": "g5KPoyl3vsjD"
      }
    },
    {
      "cell_type": "code",
      "source": [
        "test_batch = train_data.as_numpy_iterator()"
      ],
      "metadata": {
        "id": "Nmubh0iix6cV"
      },
      "execution_count": 139,
      "outputs": []
    },
    {
      "cell_type": "code",
      "source": [
        "batch_1 =test_batch.next()"
      ],
      "metadata": {
        "id": "bm84m5w4x6TG"
      },
      "execution_count": 140,
      "outputs": []
    },
    {
      "cell_type": "code",
      "source": [
        "len(batch_1[0])"
      ],
      "metadata": {
        "colab": {
          "base_uri": "https://localhost:8080/"
        },
        "id": "gKwwTC5ix6LS",
        "outputId": "1c650ad3-6e07-49ae-c074-ab0f0fea75b1"
      },
      "execution_count": 141,
      "outputs": [
        {
          "output_type": "execute_result",
          "data": {
            "text/plain": [
              "16"
            ]
          },
          "metadata": {},
          "execution_count": 141
        }
      ]
    },
    {
      "cell_type": "code",
      "source": [
        "len(batch_1[1])"
      ],
      "metadata": {
        "colab": {
          "base_uri": "https://localhost:8080/"
        },
        "id": "0zI3SNF7ymlp",
        "outputId": "b394348d-92a2-4232-cb7e-b83a87db7afd"
      },
      "execution_count": 142,
      "outputs": [
        {
          "output_type": "execute_result",
          "data": {
            "text/plain": [
              "16"
            ]
          },
          "metadata": {},
          "execution_count": 142
        }
      ]
    },
    {
      "cell_type": "code",
      "source": [
        "batch_1[2]"
      ],
      "metadata": {
        "colab": {
          "base_uri": "https://localhost:8080/"
        },
        "id": "foHpqlyWy2RR",
        "outputId": "dab53761-71e2-40e3-869e-d2fb54189d53"
      },
      "execution_count": 143,
      "outputs": [
        {
          "output_type": "execute_result",
          "data": {
            "text/plain": [
              "array([1., 1., 0., 1., 0., 1., 1., 0., 1., 1., 0., 0., 1., 1., 1., 0.],\n",
              "      dtype=float32)"
            ]
          },
          "metadata": {},
          "execution_count": 143
        }
      ]
    },
    {
      "cell_type": "code",
      "source": [
        "X = batch_1[:2]\n",
        "np.array(X).shape\n",
        "# 2 : anchor + (positive or negative image)\n",
        "# 16 : each anchor and (+ve or -ve) part have 16 samples each\n",
        "# (100,100,3) : image shape"
      ],
      "metadata": {
        "colab": {
          "base_uri": "https://localhost:8080/"
        },
        "id": "c6FTEoQTzrsi",
        "outputId": "34010d0d-7810-4466-8122-07ad7c06272b"
      },
      "execution_count": 144,
      "outputs": [
        {
          "output_type": "execute_result",
          "data": {
            "text/plain": [
              "(2, 16, 100, 100, 3)"
            ]
          },
          "metadata": {},
          "execution_count": 144
        }
      ]
    },
    {
      "cell_type": "code",
      "source": [
        "@tf.function\n",
        "def train_step(batch):\n",
        "\n",
        "  # Record all of our operations\n",
        "  with tf.GradientTape() as tape:\n",
        "    # Get anchor and positive/negative image\n",
        "    X = batch[:2]\n",
        "    # Get Label\n",
        "    y = batch[2]\n",
        "\n",
        "    # Forward pass\n",
        "    yhat = siamese_model(X, training=True)\n",
        "    # Calculate loss\n",
        "    loss = binary_cross_loss(y, yhat) # (y_true,y_predicted)\n",
        "  print(loss)\n",
        "\n",
        "  # Calculate gradients\n",
        "  grad = tape.gradient(loss,siamese_model.trainable_variables)\n",
        "\n",
        "  # Calculate updated weights and apply to siamese model\n",
        "  opt.apply_gradients(zip(grad,siamese_model.trainable_variables))\n",
        "  return loss"
      ],
      "metadata": {
        "id": "ooOUJIhqvr79"
      },
      "execution_count": 145,
      "outputs": []
    },
    {
      "cell_type": "markdown",
      "source": [
        "### Build Training Loop"
      ],
      "metadata": {
        "id": "CK7i_RNg6_yw"
      }
    },
    {
      "cell_type": "code",
      "source": [
        "def train(data,EPOCHS):\n",
        "  # loop through epochs\n",
        "  for epoch in range(1,EPOCHS+1):\n",
        "    print('\\n Epoch {}/{}'.format(epoch,EPOCHS))\n",
        "    progbar = tf.keras.utils.Progbar(len(data))\n",
        "\n",
        "\n",
        "    # Initialize the total loss\n",
        "    total_loss = 0.0\n",
        "\n",
        "    # loop through each batch\n",
        "    for idx, batch in enumerate(data):\n",
        "        # Run train step here\n",
        "      loss = train_step(batch)\n",
        "      total_loss += loss\n",
        "\n",
        "     # Update the progress bar\n",
        "      progbar.update(idx+1)\n",
        "\n",
        "    # Calculate the average loss\n",
        "    avg_loss = total_loss / len(data)\n",
        "\n",
        "    print(\"Loss :{:.4f}\".format(avg_loss))\n",
        "\n",
        "    # Save checkpoints\n",
        "    if epoch % 10 == 0:\n",
        "      checkpoint.save(file_prefix=checkpoint_prefix)"
      ],
      "metadata": {
        "id": "LVsWBLHslkip"
      },
      "execution_count": 146,
      "outputs": []
    },
    {
      "cell_type": "markdown",
      "source": [
        "### Train the model"
      ],
      "metadata": {
        "id": "CYSLsvoG8Rgy"
      }
    },
    {
      "cell_type": "code",
      "source": [
        "EPOCHS = 50"
      ],
      "metadata": {
        "id": "fsLK44o4lkbz"
      },
      "execution_count": 147,
      "outputs": []
    },
    {
      "cell_type": "code",
      "source": [
        "train(train_data, EPOCHS)"
      ],
      "metadata": {
        "colab": {
          "base_uri": "https://localhost:8080/"
        },
        "id": "zZvltazF8kxF",
        "outputId": "15fa4c95-830f-4328-bfe8-fd5e8bae3fd8"
      },
      "execution_count": 148,
      "outputs": [
        {
          "output_type": "stream",
          "name": "stdout",
          "text": [
            "\n",
            " Epoch 1/50\n",
            "Tensor(\"binary_crossentropy/weighted_loss/value:0\", shape=(), dtype=float32)\n",
            "Tensor(\"binary_crossentropy/weighted_loss/value:0\", shape=(), dtype=float32)\n",
            "26/27 [===========================>..] - ETA: 0sTensor(\"binary_crossentropy/weighted_loss/value:0\", shape=(), dtype=float32)\n",
            "27/27 [==============================] - 11s 106ms/step\n",
            "Loss :0.4748\n",
            "\n",
            " Epoch 2/50\n",
            "27/27 [==============================] - 2s 81ms/step\n",
            "Loss :0.2595\n",
            "\n",
            " Epoch 3/50\n",
            "27/27 [==============================] - 2s 81ms/step\n",
            "Loss :0.1363\n",
            "\n",
            " Epoch 4/50\n",
            "27/27 [==============================] - 2s 80ms/step\n",
            "Loss :0.0775\n",
            "\n",
            " Epoch 5/50\n",
            "27/27 [==============================] - 2s 91ms/step\n",
            "Loss :0.0732\n",
            "\n",
            " Epoch 6/50\n",
            "27/27 [==============================] - 3s 96ms/step\n",
            "Loss :0.1175\n",
            "\n",
            " Epoch 7/50\n",
            "27/27 [==============================] - 3s 96ms/step\n",
            "Loss :0.0996\n",
            "\n",
            " Epoch 8/50\n",
            "27/27 [==============================] - 2s 84ms/step\n",
            "Loss :0.0560\n",
            "\n",
            " Epoch 9/50\n",
            "27/27 [==============================] - 2s 81ms/step\n",
            "Loss :0.0326\n",
            "\n",
            " Epoch 10/50\n",
            "27/27 [==============================] - 2s 81ms/step\n",
            "Loss :0.0378\n",
            "\n",
            " Epoch 11/50\n",
            "27/27 [==============================] - 2s 81ms/step\n",
            "Loss :0.0430\n",
            "\n",
            " Epoch 12/50\n",
            "27/27 [==============================] - 2s 78ms/step\n",
            "Loss :0.0286\n",
            "\n",
            " Epoch 13/50\n",
            "27/27 [==============================] - 2s 78ms/step\n",
            "Loss :0.0320\n",
            "\n",
            " Epoch 14/50\n",
            "27/27 [==============================] - 2s 78ms/step\n",
            "Loss :0.0731\n",
            "\n",
            " Epoch 15/50\n",
            "27/27 [==============================] - 2s 78ms/step\n",
            "Loss :0.0950\n",
            "\n",
            " Epoch 16/50\n",
            "27/27 [==============================] - 2s 78ms/step\n",
            "Loss :0.1873\n",
            "\n",
            " Epoch 17/50\n",
            "27/27 [==============================] - 2s 79ms/step\n",
            "Loss :0.0514\n",
            "\n",
            " Epoch 18/50\n",
            "27/27 [==============================] - 2s 79ms/step\n",
            "Loss :0.0255\n",
            "\n",
            " Epoch 19/50\n",
            "27/27 [==============================] - 2s 78ms/step\n",
            "Loss :0.1082\n",
            "\n",
            " Epoch 20/50\n",
            "27/27 [==============================] - 2s 78ms/step\n",
            "Loss :0.0409\n",
            "\n",
            " Epoch 21/50\n",
            "27/27 [==============================] - 2s 82ms/step\n",
            "Loss :0.0513\n",
            "\n",
            " Epoch 22/50\n",
            "27/27 [==============================] - 2s 77ms/step\n",
            "Loss :0.0495\n",
            "\n",
            " Epoch 23/50\n",
            "27/27 [==============================] - 2s 77ms/step\n",
            "Loss :0.0192\n",
            "\n",
            " Epoch 24/50\n",
            "27/27 [==============================] - 2s 78ms/step\n",
            "Loss :0.0267\n",
            "\n",
            " Epoch 25/50\n",
            "27/27 [==============================] - 2s 78ms/step\n",
            "Loss :0.0150\n",
            "\n",
            " Epoch 26/50\n",
            "27/27 [==============================] - 2s 77ms/step\n",
            "Loss :0.0131\n",
            "\n",
            " Epoch 27/50\n",
            "27/27 [==============================] - 2s 78ms/step\n",
            "Loss :0.0094\n",
            "\n",
            " Epoch 28/50\n",
            "27/27 [==============================] - 2s 79ms/step\n",
            "Loss :0.0137\n",
            "\n",
            " Epoch 29/50\n",
            "27/27 [==============================] - 2s 79ms/step\n",
            "Loss :0.0094\n",
            "\n",
            " Epoch 30/50\n",
            "27/27 [==============================] - 2s 79ms/step\n",
            "Loss :0.0175\n",
            "\n",
            " Epoch 31/50\n",
            "27/27 [==============================] - 2s 82ms/step\n",
            "Loss :0.0801\n",
            "\n",
            " Epoch 32/50\n",
            "27/27 [==============================] - 2s 78ms/step\n",
            "Loss :0.0825\n",
            "\n",
            " Epoch 33/50\n",
            "27/27 [==============================] - 2s 78ms/step\n",
            "Loss :0.0301\n",
            "\n",
            " Epoch 34/50\n",
            "27/27 [==============================] - 2s 78ms/step\n",
            "Loss :0.0180\n",
            "\n",
            " Epoch 35/50\n",
            "27/27 [==============================] - 2s 79ms/step\n",
            "Loss :0.0171\n",
            "\n",
            " Epoch 36/50\n",
            "27/27 [==============================] - 2s 79ms/step\n",
            "Loss :0.0122\n",
            "\n",
            " Epoch 37/50\n",
            "27/27 [==============================] - 2s 79ms/step\n",
            "Loss :0.0697\n",
            "\n",
            " Epoch 38/50\n",
            "27/27 [==============================] - 2s 78ms/step\n",
            "Loss :0.1252\n",
            "\n",
            " Epoch 39/50\n",
            "27/27 [==============================] - 2s 78ms/step\n",
            "Loss :0.0776\n",
            "\n",
            " Epoch 40/50\n",
            "27/27 [==============================] - 2s 78ms/step\n",
            "Loss :0.0389\n",
            "\n",
            " Epoch 41/50\n",
            "27/27 [==============================] - 2s 81ms/step\n",
            "Loss :0.3177\n",
            "\n",
            " Epoch 42/50\n",
            "27/27 [==============================] - 2s 78ms/step\n",
            "Loss :0.1247\n",
            "\n",
            " Epoch 43/50\n",
            "27/27 [==============================] - 2s 78ms/step\n",
            "Loss :0.0360\n",
            "\n",
            " Epoch 44/50\n",
            "27/27 [==============================] - 2s 78ms/step\n",
            "Loss :0.0943\n",
            "\n",
            " Epoch 45/50\n",
            "27/27 [==============================] - 2s 77ms/step\n",
            "Loss :0.1072\n",
            "\n",
            " Epoch 46/50\n",
            "27/27 [==============================] - 2s 77ms/step\n",
            "Loss :0.0431\n",
            "\n",
            " Epoch 47/50\n",
            "27/27 [==============================] - 2s 77ms/step\n",
            "Loss :0.0483\n",
            "\n",
            " Epoch 48/50\n",
            "27/27 [==============================] - 2s 78ms/step\n",
            "Loss :0.0252\n",
            "\n",
            " Epoch 49/50\n",
            "27/27 [==============================] - 2s 77ms/step\n",
            "Loss :0.0166\n",
            "\n",
            " Epoch 50/50\n",
            "27/27 [==============================] - 2s 77ms/step\n",
            "Loss :0.0126\n"
          ]
        }
      ]
    },
    {
      "cell_type": "markdown",
      "source": [
        "### EVALUATE MODEL"
      ],
      "metadata": {
        "id": "zKTFR_RfC6X6"
      }
    },
    {
      "cell_type": "code",
      "source": [
        "# Import metric calculations\n",
        "from tensorflow.keras.metrics import Precision, Recall"
      ],
      "metadata": {
        "id": "F9wcjtMJ8kmB"
      },
      "execution_count": 149,
      "outputs": []
    },
    {
      "cell_type": "code",
      "source": [
        "# Get a batch of test data\n",
        "test_input, test_val, y_true =test_data.as_numpy_iterator().next()"
      ],
      "metadata": {
        "id": "lBjkI1QZEvYr"
      },
      "execution_count": 150,
      "outputs": []
    },
    {
      "cell_type": "code",
      "source": [
        "# Make predictions\n",
        "y_hat = siamese_model.predict([test_input, test_val])\n",
        "y_hat"
      ],
      "metadata": {
        "colab": {
          "base_uri": "https://localhost:8080/"
        },
        "id": "nGvkEcIEE6Ho",
        "outputId": "b007f457-e7ca-4a15-e649-c4f573b8849b"
      },
      "execution_count": 151,
      "outputs": [
        {
          "output_type": "stream",
          "name": "stdout",
          "text": [
            "1/1 [==============================] - 0s 223ms/step\n"
          ]
        },
        {
          "output_type": "execute_result",
          "data": {
            "text/plain": [
              "array([[9.9990988e-01],\n",
              "       [9.9999917e-01],\n",
              "       [6.5348634e-15],\n",
              "       [1.0000000e+00],\n",
              "       [3.7239992e-19],\n",
              "       [1.3512420e-10],\n",
              "       [9.9999499e-01],\n",
              "       [1.0000000e+00],\n",
              "       [1.0250615e-17],\n",
              "       [9.2108452e-01],\n",
              "       [3.6039278e-15],\n",
              "       [1.0000000e+00],\n",
              "       [1.9211942e-14],\n",
              "       [9.9812788e-01],\n",
              "       [9.9715400e-01],\n",
              "       [2.1166184e-17]], dtype=float32)"
            ]
          },
          "metadata": {},
          "execution_count": 151
        }
      ]
    },
    {
      "cell_type": "code",
      "source": [
        "# post processing the results\n",
        "[1 if prediction > 0.5 else 0 for prediction in y_hat]"
      ],
      "metadata": {
        "colab": {
          "base_uri": "https://localhost:8080/"
        },
        "id": "WD1MRdH1FF3a",
        "outputId": "97a92848-9467-4417-95d0-18cecacb016c"
      },
      "execution_count": 177,
      "outputs": [
        {
          "output_type": "execute_result",
          "data": {
            "text/plain": [
              "[1, 1, 0, 1, 0, 0, 1, 1, 0, 1, 0, 1, 0, 1, 1, 0]"
            ]
          },
          "metadata": {},
          "execution_count": 177
        }
      ]
    },
    {
      "cell_type": "code",
      "source": [
        "y_true"
      ],
      "metadata": {
        "colab": {
          "base_uri": "https://localhost:8080/"
        },
        "id": "icIwVlkwFz8W",
        "outputId": "ad523770-5cef-483e-b966-54dde3835456"
      },
      "execution_count": 178,
      "outputs": [
        {
          "output_type": "execute_result",
          "data": {
            "text/plain": [
              "array([1., 1., 0., 1., 0., 0., 1., 1., 0., 1., 0., 1., 0., 1., 1., 0.],\n",
              "      dtype=float32)"
            ]
          },
          "metadata": {},
          "execution_count": 178
        }
      ]
    },
    {
      "cell_type": "code",
      "source": [
        "# Creating a metric object\n",
        "m = Recall()\n",
        "# Calculating the recall value\n",
        "m.update_state(y_true,y_hat)\n",
        "# Return recall\n",
        "m.result().numpy()"
      ],
      "metadata": {
        "colab": {
          "base_uri": "https://localhost:8080/"
        },
        "id": "nYgDjfg3GBss",
        "outputId": "932b0ed4-c23e-4864-d758-c82715f541cd"
      },
      "execution_count": 179,
      "outputs": [
        {
          "output_type": "execute_result",
          "data": {
            "text/plain": [
              "1.0"
            ]
          },
          "metadata": {},
          "execution_count": 179
        }
      ]
    },
    {
      "cell_type": "code",
      "source": [
        "# Creating a metric object\n",
        "m = Precision()\n",
        "# Calculating the recall value\n",
        "m.update_state(y_true,y_hat)\n",
        "# Return recall\n",
        "m.result().numpy()"
      ],
      "metadata": {
        "colab": {
          "base_uri": "https://localhost:8080/"
        },
        "id": "IvS4NH-oGOca",
        "outputId": "6fc708fb-af7c-48e2-82ca-8fb92468180e"
      },
      "execution_count": 180,
      "outputs": [
        {
          "output_type": "execute_result",
          "data": {
            "text/plain": [
              "1.0"
            ]
          },
          "metadata": {},
          "execution_count": 180
        }
      ]
    },
    {
      "cell_type": "code",
      "source": [
        "# Set plot size\n",
        "plt.figure(figsize =(8,8))\n",
        "# Set first subplot\n",
        "plt.subplot(1,2,1)\n",
        "plt.imshow(test_input[0])\n",
        "# set second subplot\n",
        "plt.subplot(1,2,2)\n",
        "plt.imshow(test_val[15])\n",
        "# Renders the o/p cleanly\n",
        "plt.show()\n",
        "# output from prediction: [1, 1, 0, 1, 0, 0, 1, 1, 0, 1, 0, 1, 0, 1, 1, 0]"
      ],
      "metadata": {
        "colab": {
          "base_uri": "https://localhost:8080/",
          "height": 346
        },
        "id": "UpE3wIbIHTzd",
        "outputId": "bd274fbf-4f89-4cb6-e4df-fa42d0b42a51"
      },
      "execution_count": 197,
      "outputs": [
        {
          "output_type": "display_data",
          "data": {
            "text/plain": [
              "<Figure size 800x800 with 2 Axes>"
            ],
            "image/png": "[encoded data removed]"
          },
          "metadata": {}
        }
      ]
    },
    {
      "cell_type": "code",
      "source": [
        "# link of the video checking the above output from prediction: [1, 1, 0, 1, 0, 0, 1, 1, 0, 1, 0, 1, 0, 1, 1, 0]\n",
        "https://drive.google.com/file/d/1EwfxRTBCLD2GIs6njxS1idy6uCZf2KEw/view?usp=sharing"
      ],
      "metadata": {
        "id": "SNbP8C2OkDKz"
      },
      "execution_count": null,
      "outputs": []
    },
    {
      "cell_type": "markdown",
      "source": [
        "### Save Model"
      ],
      "metadata": {
        "id": "21PFvgZmUKzI"
      }
    },
    {
      "cell_type": "code",
      "source": [
        "# Save weights\n",
        "save_dir = '/content/drive/MyDrive/ML_PROJECT'\n",
        "\n",
        "os.makedirs(save_dir, exist_ok=True)\n",
        "\n",
        "model_path = os.path.join(save_dir, 'siamesemodel.h5')\n",
        "\n",
        "siamese_model.compile(optimizer='adam', loss='binary_crossentropy', metrics=['accuracy'])\n",
        "\n",
        "siamese_model.save(model_path)\n",
        "\n",
        "print(f\"Model saved at: {model_path}\")"
      ],
      "metadata": {
        "colab": {
          "base_uri": "https://localhost:8080/"
        },
        "id": "6-B9diy7Z7Yx",
        "outputId": "9351e630-58da-4a0e-9f32-4d48dc07e6af"
      },
      "execution_count": 157,
      "outputs": [
        {
          "output_type": "stream",
          "name": "stderr",
          "text": [
            "/usr/local/lib/python3.10/dist-packages/keras/src/engine/training.py:3103: UserWarning: You are saving your model as an HDF5 file via `model.save()`. This file format is considered legacy. We recommend using instead the native Keras format, e.g. `model.save('my_model.keras')`.\n",
            "  saving_api.save_model(\n"
          ]
        },
        {
          "output_type": "stream",
          "name": "stdout",
          "text": [
            "Model saved at: /content/drive/MyDrive/ML_PROJECT/siamesemodel.h5\n"
          ]
        }
      ]
    },
    {
      "cell_type": "code",
      "source": [
        "# Reload model\n",
        "model = tf.keras.models.load_model(model_path,\n",
        "                                   custom_objects={'L1Dist':L1Dist, 'BinaryCrossentropy':tf.losses.BinaryCrossentropy})"
      ],
      "metadata": {
        "id": "yQf5H9RhZFzs"
      },
      "execution_count": 160,
      "outputs": []
    },
    {
      "cell_type": "code",
      "source": [
        "# Make predictions with reloaded model\n",
        "model.predict([test_input,test_val])"
      ],
      "metadata": {
        "colab": {
          "base_uri": "https://localhost:8080/"
        },
        "id": "oJgfXZgmGFzj",
        "outputId": "4b95ca18-9cb7-4b8d-c902-84bbb849e76e"
      },
      "execution_count": 161,
      "outputs": [
        {
          "output_type": "stream",
          "name": "stdout",
          "text": [
            "1/1 [==============================] - 0s 109ms/step\n"
          ]
        },
        {
          "output_type": "execute_result",
          "data": {
            "text/plain": [
              "array([[9.9990988e-01],\n",
              "       [9.9999917e-01],\n",
              "       [6.5348634e-15],\n",
              "       [1.0000000e+00],\n",
              "       [3.7239992e-19],\n",
              "       [1.3512420e-10],\n",
              "       [9.9999499e-01],\n",
              "       [1.0000000e+00],\n",
              "       [1.0250615e-17],\n",
              "       [9.2108452e-01],\n",
              "       [3.6039278e-15],\n",
              "       [1.0000000e+00],\n",
              "       [1.9211942e-14],\n",
              "       [9.9812788e-01],\n",
              "       [9.9715400e-01],\n",
              "       [2.1166184e-17]], dtype=float32)"
            ]
          },
          "metadata": {},
          "execution_count": 161
        }
      ]
    },
    {
      "cell_type": "code",
      "source": [
        "model.summary()"
      ],
      "metadata": {
        "colab": {
          "base_uri": "https://localhost:8080/"
        },
        "id": "XZkgmbrmGFrH",
        "outputId": "94d31594-4f1f-4341-f56f-136425fb6479"
      },
      "execution_count": 162,
      "outputs": [
        {
          "output_type": "stream",
          "name": "stdout",
          "text": [
            "Model: \"SiameseNetwork\"\n",
            "__________________________________________________________________________________________________\n",
            " Layer (type)                Output Shape                 Param #   Connected to                  \n",
            "==================================================================================================\n",
            " input_img (InputLayer)      [(None, 100, 100, 3)]        0         []                            \n",
            "                                                                                                  \n",
            " validation_img (InputLayer  [(None, 100, 100, 3)]        0         []                            \n",
            " )                                                                                                \n",
            "                                                                                                  \n",
            " embedding (Functional)      (None, 4096)                 3857921   ['input_img[0][0]',           \n",
            "                                                          4          'validation_img[0][0]']      \n",
            "                                                                                                  \n",
            " l1_dist_3 (L1Dist)          (None, 4096)                 0         ['embedding[0][0]',           \n",
            "                                                                     'embedding[1][0]']           \n",
            "                                                                                                  \n",
            " dense_2 (Dense)             (None, 1)                    4097      ['l1_dist_3[0][0]']           \n",
            "                                                                                                  \n",
            "==================================================================================================\n",
            "Total params: 38583311 (147.18 MB)\n",
            "Trainable params: 38583311 (147.18 MB)\n",
            "Non-trainable params: 0 (0.00 Byte)\n",
            "__________________________________________________________________________________________________\n"
          ]
        }
      ]
    }
  ]
}