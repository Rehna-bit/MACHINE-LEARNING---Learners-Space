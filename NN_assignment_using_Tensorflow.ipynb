{
  "nbformat": 4,
  "nbformat_minor": 0,
  "metadata": {
    "colab": {
      "provenance": [],
      "gpuType": "T4"
    },
    "kernelspec": {
      "name": "python3",
      "display_name": "Python 3"
    },
    "language_info": {
      "name": "python"
    },
    "accelerator": "GPU"
  },
  "cells": [
    {
      "cell_type": "code",
      "execution_count": 21,
      "metadata": {
        "id": "Gzbt3nYOLjKT"
      },
      "outputs": [],
      "source": [
        "import tensorflow as tf\n",
        "from tensorflow.keras.layers import Dense,Flatten,Dropout\n",
        "from tensorflow.keras import Input"
      ]
    },
    {
      "cell_type": "code",
      "source": [
        "from google.colab import files\n",
        "uploaded = files.upload()\n"
      ],
      "metadata": {
        "colab": {
          "base_uri": "https://localhost:8080/",
          "height": 73
        },
        "id": "KqatWmZQL6TU",
        "outputId": "ba965b20-071a-4791-b30c-876432e22333"
      },
      "execution_count": 22,
      "outputs": [
        {
          "output_type": "display_data",
          "data": {
            "text/plain": [
              "<IPython.core.display.HTML object>"
            ],
            "text/html": [
              "\n",
              "     <input type=\"file\" id=\"files-412fed31-4bc6-4d49-b3ac-3d8a1acb81d1\" name=\"files[]\" multiple disabled\n",
              "        style=\"border:none\" />\n",
              "     <output id=\"result-412fed31-4bc6-4d49-b3ac-3d8a1acb81d1\">\n",
              "      Upload widget is only available when the cell has been executed in the\n",
              "      current browser session. Please rerun this cell to enable.\n",
              "      </output>\n",
              "      <script>// Copyright 2017 Google LLC\n",
              "//\n",
              "// Licensed under the Apache License, Version 2.0 (the \"License\");\n",
              "// you may not use this file except in compliance with the License.\n",
              "// You may obtain a copy of the License at\n",
              "//\n",
              "//      http://www.apache.org/licenses/LICENSE-2.0\n",
              "//\n",
              "// Unless required by applicable law or agreed to in writing, software\n",
              "// distributed under the License is distributed on an \"AS IS\" BASIS,\n",
              "// WITHOUT WARRANTIES OR CONDITIONS OF ANY KIND, either express or implied.\n",
              "// See the License for the specific language governing permissions and\n",
              "// limitations under the License.\n",
              "\n",
              "/**\n",
              " * @fileoverview Helpers for google.colab Python module.\n",
              " */\n",
              "(function(scope) {\n",
              "function span(text, styleAttributes = {}) {\n",
              "  const element = document.createElement('span');\n",
              "  element.textContent = text;\n",
              "  for (const key of Object.keys(styleAttributes)) {\n",
              "    element.style[key] = styleAttributes[key];\n",
              "  }\n",
              "  return element;\n",
              "}\n",
              "\n",
              "// Max number of bytes which will be uploaded at a time.\n",
              "const MAX_PAYLOAD_SIZE = 100 * 1024;\n",
              "\n",
              "function _uploadFiles(inputId, outputId) {\n",
              "  const steps = uploadFilesStep(inputId, outputId);\n",
              "  const outputElement = document.getElementById(outputId);\n",
              "  // Cache steps on the outputElement to make it available for the next call\n",
              "  // to uploadFilesContinue from Python.\n",
              "  outputElement.steps = steps;\n",
              "\n",
              "  return _uploadFilesContinue(outputId);\n",
              "}\n",
              "\n",
              "// This is roughly an async generator (not supported in the browser yet),\n",
              "// where there are multiple asynchronous steps and the Python side is going\n",
              "// to poll for completion of each step.\n",
              "// This uses a Promise to block the python side on completion of each step,\n",
              "// then passes the result of the previous step as the input to the next step.\n",
              "function _uploadFilesContinue(outputId) {\n",
              "  const outputElement = document.getElementById(outputId);\n",
              "  const steps = outputElement.steps;\n",
              "\n",
              "  const next = steps.next(outputElement.lastPromiseValue);\n",
              "  return Promise.resolve(next.value.promise).then((value) => {\n",
              "    // Cache the last promise value to make it available to the next\n",
              "    // step of the generator.\n",
              "    outputElement.lastPromiseValue = value;\n",
              "    return next.value.response;\n",
              "  });\n",
              "}\n",
              "\n",
              "/**\n",
              " * Generator function which is called between each async step of the upload\n",
              " * process.\n",
              " * @param {string} inputId Element ID of the input file picker element.\n",
              " * @param {string} outputId Element ID of the output display.\n",
              " * @return {!Iterable<!Object>} Iterable of next steps.\n",
              " */\n",
              "function* uploadFilesStep(inputId, outputId) {\n",
              "  const inputElement = document.getElementById(inputId);\n",
              "  inputElement.disabled = false;\n",
              "\n",
              "  const outputElement = document.getElementById(outputId);\n",
              "  outputElement.innerHTML = '';\n",
              "\n",
              "  const pickedPromise = new Promise((resolve) => {\n",
              "    inputElement.addEventListener('change', (e) => {\n",
              "      resolve(e.target.files);\n",
              "    });\n",
              "  });\n",
              "\n",
              "  const cancel = document.createElement('button');\n",
              "  inputElement.parentElement.appendChild(cancel);\n",
              "  cancel.textContent = 'Cancel upload';\n",
              "  const cancelPromise = new Promise((resolve) => {\n",
              "    cancel.onclick = () => {\n",
              "      resolve(null);\n",
              "    };\n",
              "  });\n",
              "\n",
              "  // Wait for the user to pick the files.\n",
              "  const files = yield {\n",
              "    promise: Promise.race([pickedPromise, cancelPromise]),\n",
              "    response: {\n",
              "      action: 'starting',\n",
              "    }\n",
              "  };\n",
              "\n",
              "  cancel.remove();\n",
              "\n",
              "  // Disable the input element since further picks are not allowed.\n",
              "  inputElement.disabled = true;\n",
              "\n",
              "  if (!files) {\n",
              "    return {\n",
              "      response: {\n",
              "        action: 'complete',\n",
              "      }\n",
              "    };\n",
              "  }\n",
              "\n",
              "  for (const file of files) {\n",
              "    const li = document.createElement('li');\n",
              "    li.append(span(file.name, {fontWeight: 'bold'}));\n",
              "    li.append(span(\n",
              "        `(${file.type || 'n/a'}) - ${file.size} bytes, ` +\n",
              "        `last modified: ${\n",
              "            file.lastModifiedDate ? file.lastModifiedDate.toLocaleDateString() :\n",
              "                                    'n/a'} - `));\n",
              "    const percent = span('0% done');\n",
              "    li.appendChild(percent);\n",
              "\n",
              "    outputElement.appendChild(li);\n",
              "\n",
              "    const fileDataPromise = new Promise((resolve) => {\n",
              "      const reader = new FileReader();\n",
              "      reader.onload = (e) => {\n",
              "        resolve(e.target.result);\n",
              "      };\n",
              "      reader.readAsArrayBuffer(file);\n",
              "    });\n",
              "    // Wait for the data to be ready.\n",
              "    let fileData = yield {\n",
              "      promise: fileDataPromise,\n",
              "      response: {\n",
              "        action: 'continue',\n",
              "      }\n",
              "    };\n",
              "\n",
              "    // Use a chunked sending to avoid message size limits. See b/62115660.\n",
              "    let position = 0;\n",
              "    do {\n",
              "      const length = Math.min(fileData.byteLength - position, MAX_PAYLOAD_SIZE);\n",
              "      const chunk = new Uint8Array(fileData, position, length);\n",
              "      position += length;\n",
              "\n",
              "      const base64 = btoa(String.fromCharCode.apply(null, chunk));\n",
              "      yield {\n",
              "        response: {\n",
              "          action: 'append',\n",
              "          file: file.name,\n",
              "          data: base64,\n",
              "        },\n",
              "      };\n",
              "\n",
              "      let percentDone = fileData.byteLength === 0 ?\n",
              "          100 :\n",
              "          Math.round((position / fileData.byteLength) * 100);\n",
              "      percent.textContent = `${percentDone}% done`;\n",
              "\n",
              "    } while (position < fileData.byteLength);\n",
              "  }\n",
              "\n",
              "  // All done.\n",
              "  yield {\n",
              "    response: {\n",
              "      action: 'complete',\n",
              "    }\n",
              "  };\n",
              "}\n",
              "\n",
              "scope.google = scope.google || {};\n",
              "scope.google.colab = scope.google.colab || {};\n",
              "scope.google.colab._files = {\n",
              "  _uploadFiles,\n",
              "  _uploadFilesContinue,\n",
              "};\n",
              "})(self);\n",
              "</script> "
            ]
          },
          "metadata": {}
        },
        {
          "output_type": "stream",
          "name": "stdout",
          "text": [
            "Saving homer_bart.zip to homer_bart (1).zip\n"
          ]
        }
      ]
    },
    {
      "cell_type": "code",
      "source": [
        "import zipfile\n",
        "import os\n",
        "\n",
        "# Getting the name of the uploaded file\n",
        "filename = list(uploaded.keys())[0]\n",
        "\n",
        "# Extracting the zip file\n",
        "with zipfile.ZipFile(filename, 'r') as zip_ref:\n",
        "    zip_ref.extractall('homer_bart')\n",
        "\n",
        "# Listing the files to verify extraction\n",
        "os.listdir('homer_bart')\n"
      ],
      "metadata": {
        "colab": {
          "base_uri": "https://localhost:8080/"
        },
        "id": "jqNW8GKmL6HK",
        "outputId": "91b7453c-b92f-4f48-d100-9b33ba44c542"
      },
      "execution_count": 32,
      "outputs": [
        {
          "output_type": "execute_result",
          "data": {
            "text/plain": [
              "['Bart', 'Homer']"
            ]
          },
          "metadata": {},
          "execution_count": 32
        }
      ]
    },
    {
      "cell_type": "code",
      "source": [
        "# Path to dataset\n",
        "dataset_path = 'homer_bart'  # Path after extraction"
      ],
      "metadata": {
        "id": "kX8lN4R_MEAA"
      },
      "execution_count": 33,
      "outputs": []
    },
    {
      "cell_type": "code",
      "source": [
        "dataset = tf.keras.preprocessing.image_dataset_from_directory('homer_bart',image_size=(64, 64),label_mode = \"binary\")"
      ],
      "metadata": {
        "colab": {
          "base_uri": "https://localhost:8080/"
        },
        "id": "k9Rf7bCzLrV1",
        "outputId": "e441496b-a454-49fa-c17e-cb9b5cd86d36"
      },
      "execution_count": 34,
      "outputs": [
        {
          "output_type": "stream",
          "name": "stdout",
          "text": [
            "Found 269 files belonging to 2 classes.\n"
          ]
        }
      ]
    },
    {
      "cell_type": "code",
      "source": [
        "# Total number of images in the dataset\n",
        "total_images = len(dataset)\n",
        "\n",
        "# Calculating the number of training and testing images\n",
        "train_size = int(0.9 * total_images)\n",
        "test_size = total_images - train_size\n",
        "\n",
        "# Creating training and testing datasets\n",
        "train_data = dataset.take(train_size)\n",
        "test_data = dataset.skip(train_size)\n",
        "\n",
        "# Cache, shuffle, and prefetch\n",
        "train_data = train_data.cache().shuffle(1000).prefetch(buffer_size=tf.data.AUTOTUNE)\n",
        "test_data = test_data.cache().prefetch(buffer_size=tf.data.AUTOTUNE)\n"
      ],
      "metadata": {
        "id": "SAIyVjr9Lrae"
      },
      "execution_count": 35,
      "outputs": []
    },
    {
      "cell_type": "code",
      "source": [
        "preprocess = tf.keras.Sequential(\n",
        "    [tf.keras.layers.Rescaling(1./255)] # rescaling factor\n",
        ")"
      ],
      "metadata": {
        "id": "5rdY4bYIOGzs"
      },
      "execution_count": 36,
      "outputs": []
    },
    {
      "cell_type": "code",
      "source": [
        "# Model definition\n",
        "model = tf.keras.Sequential()\n",
        "model.add(Input(shape=(64, 64, 3)))  # Input layer for 64x64 RGB images\n",
        "model.add(Flatten())  # Flatten the input\n",
        "model.add(preprocess)  # Adding preprocessing layer\n",
        "model.add(Dense(128, activation='relu'))  # First hidden layer\n",
        "model.add(Dense(64, activation='relu'))   # Second hidden layer\n",
        "model.add(Dense(32, activation='relu'))   # Third hidden layer\n",
        "model.add(Dense(1, activation='sigmoid')) # Output layer for binary classification\n"
      ],
      "metadata": {
        "id": "Jhv8YnurLrdn"
      },
      "execution_count": 37,
      "outputs": []
    },
    {
      "cell_type": "code",
      "source": [
        "model.compile(optimizer='adam',\n",
        "              loss = tf.keras.losses.BinaryCrossentropy(from_logits=False),  # Using binary crossentropy for binary classification\n",
        "              metrics = ['accuracy'])"
      ],
      "metadata": {
        "id": "6uA95HcxLrf4"
      },
      "execution_count": 38,
      "outputs": []
    },
    {
      "cell_type": "code",
      "source": [
        "model.fit(train_data,\n",
        "          epochs = 20,\n",
        "          batch_size = 32,\n",
        "          verbose=1,\n",
        "          )"
      ],
      "metadata": {
        "colab": {
          "base_uri": "https://localhost:8080/"
        },
        "id": "b3b82jFfLriY",
        "outputId": "484b732d-83bb-4a90-f511-a71b4822304f"
      },
      "execution_count": 39,
      "outputs": [
        {
          "output_type": "stream",
          "name": "stdout",
          "text": [
            "Epoch 1/20\n",
            "8/8 [==============================] - 1s 19ms/step - loss: 1.0193 - accuracy: 0.5117\n",
            "Epoch 2/20\n",
            "8/8 [==============================] - 0s 22ms/step - loss: 0.7004 - accuracy: 0.5664\n",
            "Epoch 3/20\n",
            "8/8 [==============================] - 0s 21ms/step - loss: 0.6174 - accuracy: 0.6250\n",
            "Epoch 4/20\n",
            "8/8 [==============================] - 0s 22ms/step - loss: 0.5331 - accuracy: 0.7500\n",
            "Epoch 5/20\n",
            "8/8 [==============================] - 0s 23ms/step - loss: 0.4880 - accuracy: 0.7305\n",
            "Epoch 6/20\n",
            "8/8 [==============================] - 0s 23ms/step - loss: 0.5106 - accuracy: 0.7695\n",
            "Epoch 7/20\n",
            "8/8 [==============================] - 0s 19ms/step - loss: 0.4612 - accuracy: 0.7539\n",
            "Epoch 8/20\n",
            "8/8 [==============================] - 0s 22ms/step - loss: 0.4094 - accuracy: 0.8125\n",
            "Epoch 9/20\n",
            "8/8 [==============================] - 0s 20ms/step - loss: 0.3502 - accuracy: 0.8320\n",
            "Epoch 10/20\n",
            "8/8 [==============================] - 0s 21ms/step - loss: 0.3339 - accuracy: 0.8516\n",
            "Epoch 11/20\n",
            "8/8 [==============================] - 0s 22ms/step - loss: 0.3278 - accuracy: 0.8594\n",
            "Epoch 12/20\n",
            "8/8 [==============================] - 0s 21ms/step - loss: 0.2909 - accuracy: 0.8828\n",
            "Epoch 13/20\n",
            "8/8 [==============================] - 0s 20ms/step - loss: 0.2965 - accuracy: 0.8672\n",
            "Epoch 14/20\n",
            "8/8 [==============================] - 0s 21ms/step - loss: 0.2592 - accuracy: 0.9062\n",
            "Epoch 15/20\n",
            "8/8 [==============================] - 0s 22ms/step - loss: 0.2299 - accuracy: 0.9375\n",
            "Epoch 16/20\n",
            "8/8 [==============================] - 0s 20ms/step - loss: 0.2252 - accuracy: 0.9258\n",
            "Epoch 17/20\n",
            "8/8 [==============================] - 0s 22ms/step - loss: 0.2032 - accuracy: 0.9375\n",
            "Epoch 18/20\n",
            "8/8 [==============================] - 0s 21ms/step - loss: 0.2045 - accuracy: 0.9609\n",
            "Epoch 19/20\n",
            "8/8 [==============================] - 0s 20ms/step - loss: 0.2020 - accuracy: 0.9336\n",
            "Epoch 20/20\n",
            "8/8 [==============================] - 0s 20ms/step - loss: 0.1561 - accuracy: 0.9570\n"
          ]
        },
        {
          "output_type": "execute_result",
          "data": {
            "text/plain": [
              "<keras.src.callbacks.History at 0x7d3163445540>"
            ]
          },
          "metadata": {},
          "execution_count": 39
        }
      ]
    },
    {
      "cell_type": "code",
      "source": [
        "# Evaluate the model\n",
        "loss, accuracy = model.evaluate(test_data)\n",
        "print(f'Test Accuracy: {accuracy * 100:.2f}%')"
      ],
      "metadata": {
        "colab": {
          "base_uri": "https://localhost:8080/"
        },
        "id": "VJsTBO6OLrmD",
        "outputId": "ef6c9429-75d1-4d6d-b177-1cd1ef0c4a02"
      },
      "execution_count": 40,
      "outputs": [
        {
          "output_type": "stream",
          "name": "stdout",
          "text": [
            "1/1 [==============================] - 0s 333ms/step - loss: 0.1869 - accuracy: 0.9231\n",
            "Test Accuracy: 92.31%\n"
          ]
        }
      ]
    }
  ]
}